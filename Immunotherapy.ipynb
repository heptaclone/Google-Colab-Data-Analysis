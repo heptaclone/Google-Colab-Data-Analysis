{
  "nbformat": 4,
  "nbformat_minor": 0,
  "metadata": {
    "colab": {
      "name": "Immunotherapy.ipynb",
      "provenance": [],
      "collapsed_sections": [],
      "authorship_tag": "ABX9TyNAFOWd3mGLB3+7SjRmXshC",
      "include_colab_link": true
    },
    "kernelspec": {
      "name": "python3",
      "display_name": "Python 3"
    }
  },
  "cells": [
    {
      "cell_type": "markdown",
      "metadata": {
        "id": "view-in-github",
        "colab_type": "text"
      },
      "source": [
        "<a href=\"https://colab.research.google.com/github/heptaclone/Google-Colab-Data-Analysis/blob/main_branch/Immunotherapy.ipynb\" target=\"_parent\"><img src=\"https://colab.research.google.com/assets/colab-badge.svg\" alt=\"Open In Colab\"/></a>"
      ]
    },
    {
      "cell_type": "markdown",
      "metadata": {
        "id": "7gesQbNms_Yi"
      },
      "source": [
        "*This dataset contains information about wart treatment results of 90 patients using immunotherapy.*\n"
      ]
    },
    {
      "cell_type": "code",
      "metadata": {
        "colab": {
          "resources": {
            "http://localhost:8080/nbextensions/google.colab/files.js": {
              "data": "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",
              "ok": true,
              "headers": [
                [
                  "content-type",
                  "application/javascript"
                ]
              ],
              "status": 200,
              "status_text": ""
            }
          },
          "base_uri": "https://localhost:8080/",
          "height": 73
        },
        "id": "QxkftD3Zh03v",
        "outputId": "ce3204fc-c07b-4a49-f58f-b441e46c820c"
      },
      "source": [
        "from google.colab import files\n",
        "uploaded = files.upload()"
      ],
      "execution_count": 1,
      "outputs": [
        {
          "output_type": "display_data",
          "data": {
            "text/html": [
              "\n",
              "     <input type=\"file\" id=\"files-5e8c21a8-7324-42ab-b6ab-a10dcdd73237\" name=\"files[]\" multiple disabled\n",
              "        style=\"border:none\" />\n",
              "     <output id=\"result-5e8c21a8-7324-42ab-b6ab-a10dcdd73237\">\n",
              "      Upload widget is only available when the cell has been executed in the\n",
              "      current browser session. Please rerun this cell to enable.\n",
              "      </output>\n",
              "      <script src=\"/nbextensions/google.colab/files.js\"></script> "
            ],
            "text/plain": [
              "<IPython.core.display.HTML object>"
            ]
          },
          "metadata": {
            "tags": []
          }
        },
        {
          "output_type": "stream",
          "text": [
            "Saving Immunotherapy.xlsx to Immunotherapy.xlsx\n"
          ],
          "name": "stdout"
        }
      ]
    },
    {
      "cell_type": "code",
      "metadata": {
        "id": "wvQGCIPGh8h2"
      },
      "source": [
        "import pandas as pd\n",
        "import matplotlib.pyplot as plt\n",
        "import numpy as np\n",
        "import seaborn as sns"
      ],
      "execution_count": 2,
      "outputs": []
    },
    {
      "cell_type": "markdown",
      "metadata": {
        "id": "NiS4Htg5lV3a"
      },
      "source": [
        "#***Cleaning The Data***"
      ]
    },
    {
      "cell_type": "code",
      "metadata": {
        "colab": {
          "base_uri": "https://localhost:8080/",
          "height": 406
        },
        "id": "W6lZwqVLiFyo",
        "outputId": "e81d53e6-d41a-49ab-d9b9-9213fa1dfdcd"
      },
      "source": [
        "import io\n",
        "df = pd.read_excel(io.BytesIO(uploaded['Immunotherapy.xlsx']))\n",
        "df"
      ],
      "execution_count": 3,
      "outputs": [
        {
          "output_type": "execute_result",
          "data": {
            "text/html": [
              "<div>\n",
              "<style scoped>\n",
              "    .dataframe tbody tr th:only-of-type {\n",
              "        vertical-align: middle;\n",
              "    }\n",
              "\n",
              "    .dataframe tbody tr th {\n",
              "        vertical-align: top;\n",
              "    }\n",
              "\n",
              "    .dataframe thead th {\n",
              "        text-align: right;\n",
              "    }\n",
              "</style>\n",
              "<table border=\"1\" class=\"dataframe\">\n",
              "  <thead>\n",
              "    <tr style=\"text-align: right;\">\n",
              "      <th></th>\n",
              "      <th>sex</th>\n",
              "      <th>age</th>\n",
              "      <th>Time</th>\n",
              "      <th>Number_of_Warts</th>\n",
              "      <th>Type</th>\n",
              "      <th>Area</th>\n",
              "      <th>induration_diameter</th>\n",
              "      <th>Result_of_Treatment</th>\n",
              "    </tr>\n",
              "  </thead>\n",
              "  <tbody>\n",
              "    <tr>\n",
              "      <th>0</th>\n",
              "      <td>1</td>\n",
              "      <td>22</td>\n",
              "      <td>2.25</td>\n",
              "      <td>14</td>\n",
              "      <td>3</td>\n",
              "      <td>51</td>\n",
              "      <td>50</td>\n",
              "      <td>1</td>\n",
              "    </tr>\n",
              "    <tr>\n",
              "      <th>1</th>\n",
              "      <td>1</td>\n",
              "      <td>15</td>\n",
              "      <td>3.00</td>\n",
              "      <td>2</td>\n",
              "      <td>3</td>\n",
              "      <td>900</td>\n",
              "      <td>70</td>\n",
              "      <td>1</td>\n",
              "    </tr>\n",
              "    <tr>\n",
              "      <th>2</th>\n",
              "      <td>1</td>\n",
              "      <td>16</td>\n",
              "      <td>10.50</td>\n",
              "      <td>2</td>\n",
              "      <td>1</td>\n",
              "      <td>100</td>\n",
              "      <td>25</td>\n",
              "      <td>1</td>\n",
              "    </tr>\n",
              "    <tr>\n",
              "      <th>3</th>\n",
              "      <td>1</td>\n",
              "      <td>27</td>\n",
              "      <td>4.50</td>\n",
              "      <td>9</td>\n",
              "      <td>3</td>\n",
              "      <td>80</td>\n",
              "      <td>30</td>\n",
              "      <td>1</td>\n",
              "    </tr>\n",
              "    <tr>\n",
              "      <th>4</th>\n",
              "      <td>1</td>\n",
              "      <td>20</td>\n",
              "      <td>8.00</td>\n",
              "      <td>6</td>\n",
              "      <td>1</td>\n",
              "      <td>45</td>\n",
              "      <td>8</td>\n",
              "      <td>1</td>\n",
              "    </tr>\n",
              "    <tr>\n",
              "      <th>...</th>\n",
              "      <td>...</td>\n",
              "      <td>...</td>\n",
              "      <td>...</td>\n",
              "      <td>...</td>\n",
              "      <td>...</td>\n",
              "      <td>...</td>\n",
              "      <td>...</td>\n",
              "      <td>...</td>\n",
              "    </tr>\n",
              "    <tr>\n",
              "      <th>85</th>\n",
              "      <td>1</td>\n",
              "      <td>40</td>\n",
              "      <td>5.50</td>\n",
              "      <td>8</td>\n",
              "      <td>3</td>\n",
              "      <td>69</td>\n",
              "      <td>5</td>\n",
              "      <td>1</td>\n",
              "    </tr>\n",
              "    <tr>\n",
              "      <th>86</th>\n",
              "      <td>1</td>\n",
              "      <td>38</td>\n",
              "      <td>7.50</td>\n",
              "      <td>8</td>\n",
              "      <td>2</td>\n",
              "      <td>56</td>\n",
              "      <td>45</td>\n",
              "      <td>1</td>\n",
              "    </tr>\n",
              "    <tr>\n",
              "      <th>87</th>\n",
              "      <td>1</td>\n",
              "      <td>46</td>\n",
              "      <td>11.50</td>\n",
              "      <td>4</td>\n",
              "      <td>1</td>\n",
              "      <td>91</td>\n",
              "      <td>25</td>\n",
              "      <td>0</td>\n",
              "    </tr>\n",
              "    <tr>\n",
              "      <th>88</th>\n",
              "      <td>1</td>\n",
              "      <td>32</td>\n",
              "      <td>12.00</td>\n",
              "      <td>9</td>\n",
              "      <td>1</td>\n",
              "      <td>43</td>\n",
              "      <td>50</td>\n",
              "      <td>0</td>\n",
              "    </tr>\n",
              "    <tr>\n",
              "      <th>89</th>\n",
              "      <td>2</td>\n",
              "      <td>23</td>\n",
              "      <td>6.75</td>\n",
              "      <td>6</td>\n",
              "      <td>1</td>\n",
              "      <td>19</td>\n",
              "      <td>2</td>\n",
              "      <td>1</td>\n",
              "    </tr>\n",
              "  </tbody>\n",
              "</table>\n",
              "<p>90 rows × 8 columns</p>\n",
              "</div>"
            ],
            "text/plain": [
              "    sex  age   Time  ...  Area  induration_diameter  Result_of_Treatment\n",
              "0     1   22   2.25  ...    51                   50                    1\n",
              "1     1   15   3.00  ...   900                   70                    1\n",
              "2     1   16  10.50  ...   100                   25                    1\n",
              "3     1   27   4.50  ...    80                   30                    1\n",
              "4     1   20   8.00  ...    45                    8                    1\n",
              "..  ...  ...    ...  ...   ...                  ...                  ...\n",
              "85    1   40   5.50  ...    69                    5                    1\n",
              "86    1   38   7.50  ...    56                   45                    1\n",
              "87    1   46  11.50  ...    91                   25                    0\n",
              "88    1   32  12.00  ...    43                   50                    0\n",
              "89    2   23   6.75  ...    19                    2                    1\n",
              "\n",
              "[90 rows x 8 columns]"
            ]
          },
          "metadata": {
            "tags": []
          },
          "execution_count": 3
        }
      ]
    },
    {
      "cell_type": "code",
      "metadata": {
        "colab": {
          "base_uri": "https://localhost:8080/"
        },
        "id": "cMiPEzWciUaZ",
        "outputId": "63770dc7-69f0-4032-ddb3-80bd69a081bd"
      },
      "source": [
        "df.shape\n"
      ],
      "execution_count": 4,
      "outputs": [
        {
          "output_type": "execute_result",
          "data": {
            "text/plain": [
              "(90, 8)"
            ]
          },
          "metadata": {
            "tags": []
          },
          "execution_count": 4
        }
      ]
    },
    {
      "cell_type": "markdown",
      "metadata": {
        "id": "WDIoOX2Emmko"
      },
      "source": [
        " **There are 90 rows and 8 columns in this dataset.**"
      ]
    },
    {
      "cell_type": "code",
      "metadata": {
        "colab": {
          "base_uri": "https://localhost:8080/",
          "height": 197
        },
        "id": "U7rEyAEaif3n",
        "outputId": "dbdb44ab-9720-491d-e249-a972fcc74855"
      },
      "source": [
        "df.head()"
      ],
      "execution_count": 5,
      "outputs": [
        {
          "output_type": "execute_result",
          "data": {
            "text/html": [
              "<div>\n",
              "<style scoped>\n",
              "    .dataframe tbody tr th:only-of-type {\n",
              "        vertical-align: middle;\n",
              "    }\n",
              "\n",
              "    .dataframe tbody tr th {\n",
              "        vertical-align: top;\n",
              "    }\n",
              "\n",
              "    .dataframe thead th {\n",
              "        text-align: right;\n",
              "    }\n",
              "</style>\n",
              "<table border=\"1\" class=\"dataframe\">\n",
              "  <thead>\n",
              "    <tr style=\"text-align: right;\">\n",
              "      <th></th>\n",
              "      <th>sex</th>\n",
              "      <th>age</th>\n",
              "      <th>Time</th>\n",
              "      <th>Number_of_Warts</th>\n",
              "      <th>Type</th>\n",
              "      <th>Area</th>\n",
              "      <th>induration_diameter</th>\n",
              "      <th>Result_of_Treatment</th>\n",
              "    </tr>\n",
              "  </thead>\n",
              "  <tbody>\n",
              "    <tr>\n",
              "      <th>0</th>\n",
              "      <td>1</td>\n",
              "      <td>22</td>\n",
              "      <td>2.25</td>\n",
              "      <td>14</td>\n",
              "      <td>3</td>\n",
              "      <td>51</td>\n",
              "      <td>50</td>\n",
              "      <td>1</td>\n",
              "    </tr>\n",
              "    <tr>\n",
              "      <th>1</th>\n",
              "      <td>1</td>\n",
              "      <td>15</td>\n",
              "      <td>3.00</td>\n",
              "      <td>2</td>\n",
              "      <td>3</td>\n",
              "      <td>900</td>\n",
              "      <td>70</td>\n",
              "      <td>1</td>\n",
              "    </tr>\n",
              "    <tr>\n",
              "      <th>2</th>\n",
              "      <td>1</td>\n",
              "      <td>16</td>\n",
              "      <td>10.50</td>\n",
              "      <td>2</td>\n",
              "      <td>1</td>\n",
              "      <td>100</td>\n",
              "      <td>25</td>\n",
              "      <td>1</td>\n",
              "    </tr>\n",
              "    <tr>\n",
              "      <th>3</th>\n",
              "      <td>1</td>\n",
              "      <td>27</td>\n",
              "      <td>4.50</td>\n",
              "      <td>9</td>\n",
              "      <td>3</td>\n",
              "      <td>80</td>\n",
              "      <td>30</td>\n",
              "      <td>1</td>\n",
              "    </tr>\n",
              "    <tr>\n",
              "      <th>4</th>\n",
              "      <td>1</td>\n",
              "      <td>20</td>\n",
              "      <td>8.00</td>\n",
              "      <td>6</td>\n",
              "      <td>1</td>\n",
              "      <td>45</td>\n",
              "      <td>8</td>\n",
              "      <td>1</td>\n",
              "    </tr>\n",
              "  </tbody>\n",
              "</table>\n",
              "</div>"
            ],
            "text/plain": [
              "   sex  age   Time  ...  Area  induration_diameter  Result_of_Treatment\n",
              "0    1   22   2.25  ...    51                   50                    1\n",
              "1    1   15   3.00  ...   900                   70                    1\n",
              "2    1   16  10.50  ...   100                   25                    1\n",
              "3    1   27   4.50  ...    80                   30                    1\n",
              "4    1   20   8.00  ...    45                    8                    1\n",
              "\n",
              "[5 rows x 8 columns]"
            ]
          },
          "metadata": {
            "tags": []
          },
          "execution_count": 5
        }
      ]
    },
    {
      "cell_type": "markdown",
      "metadata": {
        "id": "aOAcrphGzi10"
      },
      "source": [
        "**Head is basically shows 5 first rows of dataframe. 1 is for positive treatment, 0 is for the negative.**"
      ]
    },
    {
      "cell_type": "code",
      "metadata": {
        "colab": {
          "base_uri": "https://localhost:8080/",
          "height": 287
        },
        "id": "xTGxKdGijQjJ",
        "outputId": "0c44deb6-20a1-4801-bcf1-e3563e49edd4"
      },
      "source": [
        "df.describe()"
      ],
      "execution_count": 6,
      "outputs": [
        {
          "output_type": "execute_result",
          "data": {
            "text/html": [
              "<div>\n",
              "<style scoped>\n",
              "    .dataframe tbody tr th:only-of-type {\n",
              "        vertical-align: middle;\n",
              "    }\n",
              "\n",
              "    .dataframe tbody tr th {\n",
              "        vertical-align: top;\n",
              "    }\n",
              "\n",
              "    .dataframe thead th {\n",
              "        text-align: right;\n",
              "    }\n",
              "</style>\n",
              "<table border=\"1\" class=\"dataframe\">\n",
              "  <thead>\n",
              "    <tr style=\"text-align: right;\">\n",
              "      <th></th>\n",
              "      <th>sex</th>\n",
              "      <th>age</th>\n",
              "      <th>Time</th>\n",
              "      <th>Number_of_Warts</th>\n",
              "      <th>Type</th>\n",
              "      <th>Area</th>\n",
              "      <th>induration_diameter</th>\n",
              "      <th>Result_of_Treatment</th>\n",
              "    </tr>\n",
              "  </thead>\n",
              "  <tbody>\n",
              "    <tr>\n",
              "      <th>count</th>\n",
              "      <td>90.000000</td>\n",
              "      <td>90.000000</td>\n",
              "      <td>90.000000</td>\n",
              "      <td>90.000000</td>\n",
              "      <td>90.000000</td>\n",
              "      <td>90.000000</td>\n",
              "      <td>90.000000</td>\n",
              "      <td>90.000000</td>\n",
              "    </tr>\n",
              "    <tr>\n",
              "      <th>mean</th>\n",
              "      <td>1.544444</td>\n",
              "      <td>31.044444</td>\n",
              "      <td>7.230556</td>\n",
              "      <td>6.144444</td>\n",
              "      <td>1.711111</td>\n",
              "      <td>95.700000</td>\n",
              "      <td>14.333333</td>\n",
              "      <td>0.788889</td>\n",
              "    </tr>\n",
              "    <tr>\n",
              "      <th>std</th>\n",
              "      <td>0.500811</td>\n",
              "      <td>12.235435</td>\n",
              "      <td>3.098166</td>\n",
              "      <td>4.212238</td>\n",
              "      <td>0.824409</td>\n",
              "      <td>136.614643</td>\n",
              "      <td>17.217707</td>\n",
              "      <td>0.410383</td>\n",
              "    </tr>\n",
              "    <tr>\n",
              "      <th>min</th>\n",
              "      <td>1.000000</td>\n",
              "      <td>15.000000</td>\n",
              "      <td>1.000000</td>\n",
              "      <td>1.000000</td>\n",
              "      <td>1.000000</td>\n",
              "      <td>6.000000</td>\n",
              "      <td>2.000000</td>\n",
              "      <td>0.000000</td>\n",
              "    </tr>\n",
              "    <tr>\n",
              "      <th>25%</th>\n",
              "      <td>1.000000</td>\n",
              "      <td>20.250000</td>\n",
              "      <td>5.000000</td>\n",
              "      <td>2.000000</td>\n",
              "      <td>1.000000</td>\n",
              "      <td>35.500000</td>\n",
              "      <td>5.000000</td>\n",
              "      <td>1.000000</td>\n",
              "    </tr>\n",
              "    <tr>\n",
              "      <th>50%</th>\n",
              "      <td>2.000000</td>\n",
              "      <td>28.500000</td>\n",
              "      <td>7.750000</td>\n",
              "      <td>6.000000</td>\n",
              "      <td>1.000000</td>\n",
              "      <td>53.000000</td>\n",
              "      <td>7.000000</td>\n",
              "      <td>1.000000</td>\n",
              "    </tr>\n",
              "    <tr>\n",
              "      <th>75%</th>\n",
              "      <td>2.000000</td>\n",
              "      <td>41.750000</td>\n",
              "      <td>9.937500</td>\n",
              "      <td>8.750000</td>\n",
              "      <td>2.000000</td>\n",
              "      <td>80.750000</td>\n",
              "      <td>9.000000</td>\n",
              "      <td>1.000000</td>\n",
              "    </tr>\n",
              "    <tr>\n",
              "      <th>max</th>\n",
              "      <td>2.000000</td>\n",
              "      <td>56.000000</td>\n",
              "      <td>12.000000</td>\n",
              "      <td>19.000000</td>\n",
              "      <td>3.000000</td>\n",
              "      <td>900.000000</td>\n",
              "      <td>70.000000</td>\n",
              "      <td>1.000000</td>\n",
              "    </tr>\n",
              "  </tbody>\n",
              "</table>\n",
              "</div>"
            ],
            "text/plain": [
              "             sex        age  ...  induration_diameter  Result_of_Treatment\n",
              "count  90.000000  90.000000  ...            90.000000            90.000000\n",
              "mean    1.544444  31.044444  ...            14.333333             0.788889\n",
              "std     0.500811  12.235435  ...            17.217707             0.410383\n",
              "min     1.000000  15.000000  ...             2.000000             0.000000\n",
              "25%     1.000000  20.250000  ...             5.000000             1.000000\n",
              "50%     2.000000  28.500000  ...             7.000000             1.000000\n",
              "75%     2.000000  41.750000  ...             9.000000             1.000000\n",
              "max     2.000000  56.000000  ...            70.000000             1.000000\n",
              "\n",
              "[8 rows x 8 columns]"
            ]
          },
          "metadata": {
            "tags": []
          },
          "execution_count": 6
        }
      ]
    },
    {
      "cell_type": "markdown",
      "metadata": {
        "id": "2mMs0XnX6lOd"
      },
      "source": [
        "**We can see some statistical data such as mean, standard deviation (std), percentiles (25, 50, 75%).**"
      ]
    },
    {
      "cell_type": "code",
      "metadata": {
        "colab": {
          "base_uri": "https://localhost:8080/",
          "height": 197
        },
        "id": "W9idhxHrjjN4",
        "outputId": "5894d236-f0c2-4123-c3db-653695b70ee7"
      },
      "source": [
        "df.tail()"
      ],
      "execution_count": 7,
      "outputs": [
        {
          "output_type": "execute_result",
          "data": {
            "text/html": [
              "<div>\n",
              "<style scoped>\n",
              "    .dataframe tbody tr th:only-of-type {\n",
              "        vertical-align: middle;\n",
              "    }\n",
              "\n",
              "    .dataframe tbody tr th {\n",
              "        vertical-align: top;\n",
              "    }\n",
              "\n",
              "    .dataframe thead th {\n",
              "        text-align: right;\n",
              "    }\n",
              "</style>\n",
              "<table border=\"1\" class=\"dataframe\">\n",
              "  <thead>\n",
              "    <tr style=\"text-align: right;\">\n",
              "      <th></th>\n",
              "      <th>sex</th>\n",
              "      <th>age</th>\n",
              "      <th>Time</th>\n",
              "      <th>Number_of_Warts</th>\n",
              "      <th>Type</th>\n",
              "      <th>Area</th>\n",
              "      <th>induration_diameter</th>\n",
              "      <th>Result_of_Treatment</th>\n",
              "    </tr>\n",
              "  </thead>\n",
              "  <tbody>\n",
              "    <tr>\n",
              "      <th>85</th>\n",
              "      <td>1</td>\n",
              "      <td>40</td>\n",
              "      <td>5.50</td>\n",
              "      <td>8</td>\n",
              "      <td>3</td>\n",
              "      <td>69</td>\n",
              "      <td>5</td>\n",
              "      <td>1</td>\n",
              "    </tr>\n",
              "    <tr>\n",
              "      <th>86</th>\n",
              "      <td>1</td>\n",
              "      <td>38</td>\n",
              "      <td>7.50</td>\n",
              "      <td>8</td>\n",
              "      <td>2</td>\n",
              "      <td>56</td>\n",
              "      <td>45</td>\n",
              "      <td>1</td>\n",
              "    </tr>\n",
              "    <tr>\n",
              "      <th>87</th>\n",
              "      <td>1</td>\n",
              "      <td>46</td>\n",
              "      <td>11.50</td>\n",
              "      <td>4</td>\n",
              "      <td>1</td>\n",
              "      <td>91</td>\n",
              "      <td>25</td>\n",
              "      <td>0</td>\n",
              "    </tr>\n",
              "    <tr>\n",
              "      <th>88</th>\n",
              "      <td>1</td>\n",
              "      <td>32</td>\n",
              "      <td>12.00</td>\n",
              "      <td>9</td>\n",
              "      <td>1</td>\n",
              "      <td>43</td>\n",
              "      <td>50</td>\n",
              "      <td>0</td>\n",
              "    </tr>\n",
              "    <tr>\n",
              "      <th>89</th>\n",
              "      <td>2</td>\n",
              "      <td>23</td>\n",
              "      <td>6.75</td>\n",
              "      <td>6</td>\n",
              "      <td>1</td>\n",
              "      <td>19</td>\n",
              "      <td>2</td>\n",
              "      <td>1</td>\n",
              "    </tr>\n",
              "  </tbody>\n",
              "</table>\n",
              "</div>"
            ],
            "text/plain": [
              "    sex  age   Time  ...  Area  induration_diameter  Result_of_Treatment\n",
              "85    1   40   5.50  ...    69                    5                    1\n",
              "86    1   38   7.50  ...    56                   45                    1\n",
              "87    1   46  11.50  ...    91                   25                    0\n",
              "88    1   32  12.00  ...    43                   50                    0\n",
              "89    2   23   6.75  ...    19                    2                    1\n",
              "\n",
              "[5 rows x 8 columns]"
            ]
          },
          "metadata": {
            "tags": []
          },
          "execution_count": 7
        }
      ]
    },
    {
      "cell_type": "markdown",
      "metadata": {
        "id": "GhdZMt0e-FEi"
      },
      "source": [
        "**Tail shows us last 5 rows of dataset. 1 is for positive result of treatment and 0 is for negative result of treatment.**"
      ]
    },
    {
      "cell_type": "code",
      "metadata": {
        "colab": {
          "base_uri": "https://localhost:8080/"
        },
        "id": "C8VkeBRpjqjo",
        "outputId": "504b07c4-2a53-4172-ef88-fa2186b63b16"
      },
      "source": [
        "df.isnull().sum()"
      ],
      "execution_count": 8,
      "outputs": [
        {
          "output_type": "execute_result",
          "data": {
            "text/plain": [
              "sex                    0\n",
              "age                    0\n",
              "Time                   0\n",
              "Number_of_Warts        0\n",
              "Type                   0\n",
              "Area                   0\n",
              "induration_diameter    0\n",
              "Result_of_Treatment    0\n",
              "dtype: int64"
            ]
          },
          "metadata": {
            "tags": []
          },
          "execution_count": 8
        }
      ]
    },
    {
      "cell_type": "markdown",
      "metadata": {
        "id": "s8pswNuG-lAb"
      },
      "source": [
        "**This function returns missing values in the dataset. We can finally see that there are no missing values in this current dataset.**"
      ]
    },
    {
      "cell_type": "code",
      "metadata": {
        "colab": {
          "base_uri": "https://localhost:8080/"
        },
        "id": "sqKrdGLaiVUd",
        "outputId": "8536f4c4-e675-487d-ea43-3d3ed4daf9c7"
      },
      "source": [
        "df.columns"
      ],
      "execution_count": 9,
      "outputs": [
        {
          "output_type": "execute_result",
          "data": {
            "text/plain": [
              "Index(['sex', 'age', 'Time', 'Number_of_Warts', 'Type', 'Area',\n",
              "       'induration_diameter', 'Result_of_Treatment'],\n",
              "      dtype='object')"
            ]
          },
          "metadata": {
            "tags": []
          },
          "execution_count": 9
        }
      ]
    },
    {
      "cell_type": "markdown",
      "metadata": {
        "id": "koWv39gX-0Sv"
      },
      "source": [
        "**Columns function shows all the columns of this current dataset.**"
      ]
    },
    {
      "cell_type": "code",
      "metadata": {
        "colab": {
          "base_uri": "https://localhost:8080/"
        },
        "id": "QQqCI83oiohJ",
        "outputId": "d59a2419-1d67-4907-e7e5-c06f9dfd987a"
      },
      "source": [
        "df.nunique()"
      ],
      "execution_count": 10,
      "outputs": [
        {
          "output_type": "execute_result",
          "data": {
            "text/plain": [
              "sex                     2\n",
              "age                    36\n",
              "Time                   39\n",
              "Number_of_Warts        16\n",
              "Type                    3\n",
              "Area                   65\n",
              "induration_diameter    12\n",
              "Result_of_Treatment     2\n",
              "dtype: int64"
            ]
          },
          "metadata": {
            "tags": []
          },
          "execution_count": 10
        }
      ]
    },
    {
      "cell_type": "markdown",
      "metadata": {
        "id": "q7Y2IQIHAE-P"
      },
      "source": [
        "**This function return series with number of distinct observations over requested axis.**"
      ]
    },
    {
      "cell_type": "code",
      "metadata": {
        "id": "Pqwu-P8VitmJ"
      },
      "source": [
        "im = df.drop(['sex', 'age', 'Time'], axis=1)"
      ],
      "execution_count": 11,
      "outputs": []
    },
    {
      "cell_type": "markdown",
      "metadata": {
        "id": "NYj73uqPAkqH"
      },
      "source": [
        "**Function df.drop() is just drop specified labels from rows or columns. Here I dropped three columns.**"
      ]
    },
    {
      "cell_type": "code",
      "metadata": {
        "colab": {
          "base_uri": "https://localhost:8080/",
          "height": 197
        },
        "id": "LeaOrAhHi9jA",
        "outputId": "fdf1ed3b-4baa-4764-f7a5-0a71c50d02cb"
      },
      "source": [
        "im.head()"
      ],
      "execution_count": 12,
      "outputs": [
        {
          "output_type": "execute_result",
          "data": {
            "text/html": [
              "<div>\n",
              "<style scoped>\n",
              "    .dataframe tbody tr th:only-of-type {\n",
              "        vertical-align: middle;\n",
              "    }\n",
              "\n",
              "    .dataframe tbody tr th {\n",
              "        vertical-align: top;\n",
              "    }\n",
              "\n",
              "    .dataframe thead th {\n",
              "        text-align: right;\n",
              "    }\n",
              "</style>\n",
              "<table border=\"1\" class=\"dataframe\">\n",
              "  <thead>\n",
              "    <tr style=\"text-align: right;\">\n",
              "      <th></th>\n",
              "      <th>Number_of_Warts</th>\n",
              "      <th>Type</th>\n",
              "      <th>Area</th>\n",
              "      <th>induration_diameter</th>\n",
              "      <th>Result_of_Treatment</th>\n",
              "    </tr>\n",
              "  </thead>\n",
              "  <tbody>\n",
              "    <tr>\n",
              "      <th>0</th>\n",
              "      <td>14</td>\n",
              "      <td>3</td>\n",
              "      <td>51</td>\n",
              "      <td>50</td>\n",
              "      <td>1</td>\n",
              "    </tr>\n",
              "    <tr>\n",
              "      <th>1</th>\n",
              "      <td>2</td>\n",
              "      <td>3</td>\n",
              "      <td>900</td>\n",
              "      <td>70</td>\n",
              "      <td>1</td>\n",
              "    </tr>\n",
              "    <tr>\n",
              "      <th>2</th>\n",
              "      <td>2</td>\n",
              "      <td>1</td>\n",
              "      <td>100</td>\n",
              "      <td>25</td>\n",
              "      <td>1</td>\n",
              "    </tr>\n",
              "    <tr>\n",
              "      <th>3</th>\n",
              "      <td>9</td>\n",
              "      <td>3</td>\n",
              "      <td>80</td>\n",
              "      <td>30</td>\n",
              "      <td>1</td>\n",
              "    </tr>\n",
              "    <tr>\n",
              "      <th>4</th>\n",
              "      <td>6</td>\n",
              "      <td>1</td>\n",
              "      <td>45</td>\n",
              "      <td>8</td>\n",
              "      <td>1</td>\n",
              "    </tr>\n",
              "  </tbody>\n",
              "</table>\n",
              "</div>"
            ],
            "text/plain": [
              "   Number_of_Warts  Type  Area  induration_diameter  Result_of_Treatment\n",
              "0               14     3    51                   50                    1\n",
              "1                2     3   900                   70                    1\n",
              "2                2     1   100                   25                    1\n",
              "3                9     3    80                   30                    1\n",
              "4                6     1    45                    8                    1"
            ]
          },
          "metadata": {
            "tags": []
          },
          "execution_count": 12
        }
      ]
    },
    {
      "cell_type": "markdown",
      "metadata": {
        "id": "p6iJH8ZUBW3J"
      },
      "source": [
        "**Head is basically shows 5 first rows of dataframe. 1 is for positive treatment, 0 is for the negative.**"
      ]
    },
    {
      "cell_type": "code",
      "metadata": {
        "colab": {
          "base_uri": "https://localhost:8080/",
          "height": 1000
        },
        "id": "bODbfKbZjCzP",
        "outputId": "27dd001a-8bb6-424d-8736-d5282d305eb4"
      },
      "source": [
        "plt.hist(im)"
      ],
      "execution_count": 13,
      "outputs": [
        {
          "output_type": "execute_result",
          "data": {
            "text/plain": [
              "(array([[5., 0., 0., 0., 0., 0., 0., 0., 0., 0.],\n",
              "        [4., 0., 0., 0., 0., 0., 0., 0., 0., 1.],\n",
              "        [4., 1., 0., 0., 0., 0., 0., 0., 0., 0.],\n",
              "        [5., 0., 0., 0., 0., 0., 0., 0., 0., 0.],\n",
              "        [5., 0., 0., 0., 0., 0., 0., 0., 0., 0.],\n",
              "        [5., 0., 0., 0., 0., 0., 0., 0., 0., 0.],\n",
              "        [5., 0., 0., 0., 0., 0., 0., 0., 0., 0.],\n",
              "        [5., 0., 0., 0., 0., 0., 0., 0., 0., 0.],\n",
              "        [4., 0., 1., 0., 0., 0., 0., 0., 0., 0.],\n",
              "        [5., 0., 0., 0., 0., 0., 0., 0., 0., 0.],\n",
              "        [5., 0., 0., 0., 0., 0., 0., 0., 0., 0.],\n",
              "        [5., 0., 0., 0., 0., 0., 0., 0., 0., 0.],\n",
              "        [5., 0., 0., 0., 0., 0., 0., 0., 0., 0.],\n",
              "        [5., 0., 0., 0., 0., 0., 0., 0., 0., 0.],\n",
              "        [4., 1., 0., 0., 0., 0., 0., 0., 0., 0.],\n",
              "        [4., 1., 0., 0., 0., 0., 0., 0., 0., 0.],\n",
              "        [5., 0., 0., 0., 0., 0., 0., 0., 0., 0.],\n",
              "        [5., 0., 0., 0., 0., 0., 0., 0., 0., 0.],\n",
              "        [5., 0., 0., 0., 0., 0., 0., 0., 0., 0.],\n",
              "        [5., 0., 0., 0., 0., 0., 0., 0., 0., 0.],\n",
              "        [5., 0., 0., 0., 0., 0., 0., 0., 0., 0.],\n",
              "        [5., 0., 0., 0., 0., 0., 0., 0., 0., 0.],\n",
              "        [5., 0., 0., 0., 0., 0., 0., 0., 0., 0.],\n",
              "        [4., 0., 0., 1., 0., 0., 0., 0., 0., 0.],\n",
              "        [5., 0., 0., 0., 0., 0., 0., 0., 0., 0.],\n",
              "        [5., 0., 0., 0., 0., 0., 0., 0., 0., 0.],\n",
              "        [5., 0., 0., 0., 0., 0., 0., 0., 0., 0.],\n",
              "        [5., 0., 0., 0., 0., 0., 0., 0., 0., 0.],\n",
              "        [5., 0., 0., 0., 0., 0., 0., 0., 0., 0.],\n",
              "        [5., 0., 0., 0., 0., 0., 0., 0., 0., 0.],\n",
              "        [5., 0., 0., 0., 0., 0., 0., 0., 0., 0.],\n",
              "        [5., 0., 0., 0., 0., 0., 0., 0., 0., 0.],\n",
              "        [5., 0., 0., 0., 0., 0., 0., 0., 0., 0.],\n",
              "        [4., 1., 0., 0., 0., 0., 0., 0., 0., 0.],\n",
              "        [4., 0., 0., 0., 0., 1., 0., 0., 0., 0.],\n",
              "        [5., 0., 0., 0., 0., 0., 0., 0., 0., 0.],\n",
              "        [5., 0., 0., 0., 0., 0., 0., 0., 0., 0.],\n",
              "        [4., 0., 0., 0., 0., 1., 0., 0., 0., 0.],\n",
              "        [4., 1., 0., 0., 0., 0., 0., 0., 0., 0.],\n",
              "        [5., 0., 0., 0., 0., 0., 0., 0., 0., 0.],\n",
              "        [4., 0., 0., 1., 0., 0., 0., 0., 0., 0.],\n",
              "        [5., 0., 0., 0., 0., 0., 0., 0., 0., 0.],\n",
              "        [4., 1., 0., 0., 0., 0., 0., 0., 0., 0.],\n",
              "        [5., 0., 0., 0., 0., 0., 0., 0., 0., 0.],\n",
              "        [5., 0., 0., 0., 0., 0., 0., 0., 0., 0.],\n",
              "        [5., 0., 0., 0., 0., 0., 0., 0., 0., 0.],\n",
              "        [5., 0., 0., 0., 0., 0., 0., 0., 0., 0.],\n",
              "        [5., 0., 0., 0., 0., 0., 0., 0., 0., 0.],\n",
              "        [5., 0., 0., 0., 0., 0., 0., 0., 0., 0.],\n",
              "        [5., 0., 0., 0., 0., 0., 0., 0., 0., 0.],\n",
              "        [5., 0., 0., 0., 0., 0., 0., 0., 0., 0.],\n",
              "        [5., 0., 0., 0., 0., 0., 0., 0., 0., 0.],\n",
              "        [5., 0., 0., 0., 0., 0., 0., 0., 0., 0.],\n",
              "        [5., 0., 0., 0., 0., 0., 0., 0., 0., 0.],\n",
              "        [5., 0., 0., 0., 0., 0., 0., 0., 0., 0.],\n",
              "        [5., 0., 0., 0., 0., 0., 0., 0., 0., 0.],\n",
              "        [5., 0., 0., 0., 0., 0., 0., 0., 0., 0.],\n",
              "        [5., 0., 0., 0., 0., 0., 0., 0., 0., 0.],\n",
              "        [5., 0., 0., 0., 0., 0., 0., 0., 0., 0.],\n",
              "        [5., 0., 0., 0., 0., 0., 0., 0., 0., 0.],\n",
              "        [5., 0., 0., 0., 0., 0., 0., 0., 0., 0.],\n",
              "        [5., 0., 0., 0., 0., 0., 0., 0., 0., 0.],\n",
              "        [5., 0., 0., 0., 0., 0., 0., 0., 0., 0.],\n",
              "        [5., 0., 0., 0., 0., 0., 0., 0., 0., 0.],\n",
              "        [5., 0., 0., 0., 0., 0., 0., 0., 0., 0.],\n",
              "        [5., 0., 0., 0., 0., 0., 0., 0., 0., 0.],\n",
              "        [4., 0., 1., 0., 0., 0., 0., 0., 0., 0.],\n",
              "        [5., 0., 0., 0., 0., 0., 0., 0., 0., 0.],\n",
              "        [5., 0., 0., 0., 0., 0., 0., 0., 0., 0.],\n",
              "        [5., 0., 0., 0., 0., 0., 0., 0., 0., 0.],\n",
              "        [5., 0., 0., 0., 0., 0., 0., 0., 0., 0.],\n",
              "        [5., 0., 0., 0., 0., 0., 0., 0., 0., 0.],\n",
              "        [4., 0., 0., 0., 1., 0., 0., 0., 0., 0.],\n",
              "        [5., 0., 0., 0., 0., 0., 0., 0., 0., 0.],\n",
              "        [5., 0., 0., 0., 0., 0., 0., 0., 0., 0.],\n",
              "        [4., 0., 0., 0., 1., 0., 0., 0., 0., 0.],\n",
              "        [5., 0., 0., 0., 0., 0., 0., 0., 0., 0.],\n",
              "        [5., 0., 0., 0., 0., 0., 0., 0., 0., 0.],\n",
              "        [4., 0., 0., 0., 0., 1., 0., 0., 0., 0.],\n",
              "        [4., 1., 0., 0., 0., 0., 0., 0., 0., 0.],\n",
              "        [5., 0., 0., 0., 0., 0., 0., 0., 0., 0.],\n",
              "        [5., 0., 0., 0., 0., 0., 0., 0., 0., 0.],\n",
              "        [5., 0., 0., 0., 0., 0., 0., 0., 0., 0.],\n",
              "        [5., 0., 0., 0., 0., 0., 0., 0., 0., 0.],\n",
              "        [5., 0., 0., 0., 0., 0., 0., 0., 0., 0.],\n",
              "        [5., 0., 0., 0., 0., 0., 0., 0., 0., 0.],\n",
              "        [5., 0., 0., 0., 0., 0., 0., 0., 0., 0.],\n",
              "        [4., 1., 0., 0., 0., 0., 0., 0., 0., 0.],\n",
              "        [5., 0., 0., 0., 0., 0., 0., 0., 0., 0.],\n",
              "        [5., 0., 0., 0., 0., 0., 0., 0., 0., 0.]]),\n",
              " array([  0.,  90., 180., 270., 360., 450., 540., 630., 720., 810., 900.]),\n",
              " <a list of 90 Lists of Patches objects>)"
            ]
          },
          "metadata": {
            "tags": []
          },
          "execution_count": 13
        },
        {
          "output_type": "display_data",
          "data": {
            "image/png": "[encoded data removed]",
            "text/plain": [
              "<Figure size 432x288 with 1 Axes>"
            ]
          },
          "metadata": {
            "tags": [],
            "needs_background": "light"
          }
        }
      ]
    },
    {
      "cell_type": "markdown",
      "metadata": {
        "id": "B__Ip0nDBunE"
      },
      "source": [
        "**Making histogram of Immunotherapy data.**"
      ]
    },
    {
      "cell_type": "markdown",
      "metadata": {
        "id": "4jpjO5aAkJ5J"
      },
      "source": [
        "#***Exploratory Data Analysis***"
      ]
    },
    {
      "cell_type": "code",
      "metadata": {
        "id": "CMOqv2CrjKYy"
      },
      "source": [
        "corelation=im.corr()"
      ],
      "execution_count": 14,
      "outputs": []
    },
    {
      "cell_type": "markdown",
      "metadata": {
        "id": "-Mx29yJpB6vJ"
      },
      "source": [
        "**Creating correlation model for current data.**"
      ]
    },
    {
      "cell_type": "code",
      "metadata": {
        "colab": {
          "base_uri": "https://localhost:8080/",
          "height": 378
        },
        "id": "QKMlZvFzjNup",
        "outputId": "48a6917b-724e-4af3-8ddf-cd60c8e22fcf"
      },
      "source": [
        "sns.heatmap(corelation, xticklabels=corelation.columns, yticklabels=corelation.columns, annot=True)"
      ],
      "execution_count": 15,
      "outputs": [
        {
          "output_type": "execute_result",
          "data": {
            "text/plain": [
              "<matplotlib.axes._subplots.AxesSubplot at 0x7fe3dcb2b650>"
            ]
          },
          "metadata": {
            "tags": []
          },
          "execution_count": 15
        },
        {
          "output_type": "display_data",
          "data": {
            "image/png": "[encoded data removed]",
            "text/plain": [
              "<Figure size 432x288 with 2 Axes>"
            ]
          },
          "metadata": {
            "tags": [],
            "needs_background": "light"
          }
        }
      ]
    },
    {
      "cell_type": "markdown",
      "metadata": {
        "id": "O4mY_RMJCZg4"
      },
      "source": [
        "**Correlation heatmap shows us variables are normally correlated.**"
      ]
    },
    {
      "cell_type": "code",
      "metadata": {
        "colab": {
          "base_uri": "https://localhost:8080/",
          "height": 921
        },
        "id": "XmEb3DSAjS0I",
        "outputId": "b5192d4c-c71d-4c58-b1a3-a266e4ddcec1"
      },
      "source": [
        "sns.pairplot(im)"
      ],
      "execution_count": 16,
      "outputs": [
        {
          "output_type": "execute_result",
          "data": {
            "text/plain": [
              "<seaborn.axisgrid.PairGrid at 0x7fe3dca99810>"
            ]
          },
          "metadata": {
            "tags": []
          },
          "execution_count": 16
        },
        {
          "output_type": "display_data",
          "data": {
            "image/png": "[encoded data removed]",
            "text/plain": [
              "<Figure size 900x900 with 30 Axes>"
            ]
          },
          "metadata": {
            "tags": [],
            "needs_background": "light"
          }
        }
      ]
    },
    {
      "cell_type": "markdown",
      "metadata": {
        "id": "cL6IQsfmOy1Q"
      },
      "source": [
        "**On this pairplot we can see that result of treatment is mainly positive.**"
      ]
    },
    {
      "cell_type": "code",
      "metadata": {
        "colab": {
          "base_uri": "https://localhost:8080/",
          "height": 353
        },
        "id": "idlJ9txDjbYa",
        "outputId": "c0025d12-0325-48fd-8e9e-32d2bd9770f9"
      },
      "source": [
        "sns.distplot(im['Result_of_Treatment'])"
      ],
      "execution_count": 17,
      "outputs": [
        {
          "output_type": "stream",
          "text": [
            "/usr/local/lib/python3.7/dist-packages/seaborn/distributions.py:2557: FutureWarning: `distplot` is a deprecated function and will be removed in a future version. Please adapt your code to use either `displot` (a figure-level function with similar flexibility) or `histplot` (an axes-level function for histograms).\n",
            "  warnings.warn(msg, FutureWarning)\n"
          ],
          "name": "stderr"
        },
        {
          "output_type": "execute_result",
          "data": {
            "text/plain": [
              "<matplotlib.axes._subplots.AxesSubplot at 0x7fe3d2be4a10>"
            ]
          },
          "metadata": {
            "tags": []
          },
          "execution_count": 17
        },
        {
          "output_type": "display_data",
          "data": {
            "image/png": "[encoded data removed]",
            "text/plain": [
              "<Figure size 432x288 with 1 Axes>"
            ]
          },
          "metadata": {
            "tags": [],
            "needs_background": "light"
          }
        }
      ]
    },
    {
      "cell_type": "markdown",
      "metadata": {
        "id": "08nkNhPBOgMg"
      },
      "source": [
        "**On this distplot we can see that result of treatment is mainly positive.**"
      ]
    },
    {
      "cell_type": "code",
      "metadata": {
        "colab": {
          "base_uri": "https://localhost:8080/",
          "height": 353
        },
        "id": "gGpoyO_zjka7",
        "outputId": "534c1b55-f17a-48b2-887b-eb00f7ecc6dc"
      },
      "source": [
        "sns.distplot(im['Number_of_Warts'])"
      ],
      "execution_count": 18,
      "outputs": [
        {
          "output_type": "stream",
          "text": [
            "/usr/local/lib/python3.7/dist-packages/seaborn/distributions.py:2557: FutureWarning: `distplot` is a deprecated function and will be removed in a future version. Please adapt your code to use either `displot` (a figure-level function with similar flexibility) or `histplot` (an axes-level function for histograms).\n",
            "  warnings.warn(msg, FutureWarning)\n"
          ],
          "name": "stderr"
        },
        {
          "output_type": "execute_result",
          "data": {
            "text/plain": [
              "<matplotlib.axes._subplots.AxesSubplot at 0x7fe3cf36c1d0>"
            ]
          },
          "metadata": {
            "tags": []
          },
          "execution_count": 18
        },
        {
          "output_type": "display_data",
          "data": {
            "image/png": "[encoded data removed]",
            "text/plain": [
              "<Figure size 432x288 with 1 Axes>"
            ]
          },
          "metadata": {
            "tags": [],
            "needs_background": "light"
          }
        }
      ]
    },
    {
      "cell_type": "code",
      "metadata": {
        "colab": {
          "base_uri": "https://localhost:8080/",
          "height": 352
        },
        "id": "zGLJJScGj8v0",
        "outputId": "d2f6baae-905d-4ca8-d86f-5b4f0c56840c"
      },
      "source": [
        "sns.distplot(im['Area'])"
      ],
      "execution_count": 19,
      "outputs": [
        {
          "output_type": "stream",
          "text": [
            "/usr/local/lib/python3.7/dist-packages/seaborn/distributions.py:2557: FutureWarning: `distplot` is a deprecated function and will be removed in a future version. Please adapt your code to use either `displot` (a figure-level function with similar flexibility) or `histplot` (an axes-level function for histograms).\n",
            "  warnings.warn(msg, FutureWarning)\n"
          ],
          "name": "stderr"
        },
        {
          "output_type": "execute_result",
          "data": {
            "text/plain": [
              "<matplotlib.axes._subplots.AxesSubplot at 0x7fe3d2d1e850>"
            ]
          },
          "metadata": {
            "tags": []
          },
          "execution_count": 19
        },
        {
          "output_type": "display_data",
          "data": {
            "image/png": "[encoded data removed]",
            "text/plain": [
              "<Figure size 432x288 with 1 Axes>"
            ]
          },
          "metadata": {
            "tags": [],
            "needs_background": "light"
          }
        }
      ]
    },
    {
      "cell_type": "code",
      "metadata": {
        "colab": {
          "base_uri": "https://localhost:8080/",
          "height": 352
        },
        "id": "JcioOIwMjwaZ",
        "outputId": "e7aa04e1-9d5c-4630-86f7-a7ef3484ddf5"
      },
      "source": [
        "sns.distplot(im['Type'])"
      ],
      "execution_count": 20,
      "outputs": [
        {
          "output_type": "stream",
          "text": [
            "/usr/local/lib/python3.7/dist-packages/seaborn/distributions.py:2557: FutureWarning: `distplot` is a deprecated function and will be removed in a future version. Please adapt your code to use either `displot` (a figure-level function with similar flexibility) or `histplot` (an axes-level function for histograms).\n",
            "  warnings.warn(msg, FutureWarning)\n"
          ],
          "name": "stderr"
        },
        {
          "output_type": "execute_result",
          "data": {
            "text/plain": [
              "<matplotlib.axes._subplots.AxesSubplot at 0x7fe3cf22d3d0>"
            ]
          },
          "metadata": {
            "tags": []
          },
          "execution_count": 20
        },
        {
          "output_type": "display_data",
          "data": {
            "image/png": "[encoded data removed]",
            "text/plain": [
              "<Figure size 432x288 with 1 Axes>"
            ]
          },
          "metadata": {
            "tags": [],
            "needs_background": "light"
          }
        }
      ]
    },
    {
      "cell_type": "code",
      "metadata": {
        "colab": {
          "base_uri": "https://localhost:8080/",
          "height": 353
        },
        "id": "hJlHFUMHj4og",
        "outputId": "b9d8e4be-f84d-401a-9f7b-a9ca962c33b2"
      },
      "source": [
        "sns.distplot(im['induration_diameter'])"
      ],
      "execution_count": 21,
      "outputs": [
        {
          "output_type": "stream",
          "text": [
            "/usr/local/lib/python3.7/dist-packages/seaborn/distributions.py:2557: FutureWarning: `distplot` is a deprecated function and will be removed in a future version. Please adapt your code to use either `displot` (a figure-level function with similar flexibility) or `histplot` (an axes-level function for histograms).\n",
            "  warnings.warn(msg, FutureWarning)\n"
          ],
          "name": "stderr"
        },
        {
          "output_type": "execute_result",
          "data": {
            "text/plain": [
              "<matplotlib.axes._subplots.AxesSubplot at 0x7fe3cf210650>"
            ]
          },
          "metadata": {
            "tags": []
          },
          "execution_count": 21
        },
        {
          "output_type": "display_data",
          "data": {
            "image/png": "[encoded data removed]",
            "text/plain": [
              "<Figure size 432x288 with 1 Axes>"
            ]
          },
          "metadata": {
            "tags": [],
            "needs_background": "light"
          }
        }
      ]
    },
    {
      "cell_type": "code",
      "metadata": {
        "colab": {
          "base_uri": "https://localhost:8080/",
          "height": 402
        },
        "id": "O-BedO32kFYb",
        "outputId": "a046c52e-79b6-4119-a2ce-c3dce841e26d"
      },
      "source": [
        "sns.catplot(x='Result_of_Treatment', kind='box', data=im)"
      ],
      "execution_count": 22,
      "outputs": [
        {
          "output_type": "execute_result",
          "data": {
            "text/plain": [
              "<seaborn.axisgrid.FacetGrid at 0x7fe3cf089410>"
            ]
          },
          "metadata": {
            "tags": []
          },
          "execution_count": 22
        },
        {
          "output_type": "display_data",
          "data": {
            "image/png": "[encoded data removed]",
            "text/plain": [
              "<Figure size 360x360 with 1 Axes>"
            ]
          },
          "metadata": {
            "tags": [],
            "needs_background": "light"
          }
        }
      ]
    },
    {
      "cell_type": "markdown",
      "metadata": {
        "id": "YRsZiCylt721"
      },
      "source": [
        "**On this catplot we can see that result of treatment is positive.**"
      ]
    },
    {
      "cell_type": "markdown",
      "metadata": {
        "id": "Wu43AW_Bq3li"
      },
      "source": [
        "#***Model Training***"
      ]
    },
    {
      "cell_type": "code",
      "metadata": {
        "id": "0w1Vv4ABrB8m"
      },
      "source": [
        "from sklearn.model_selection import train_test_split"
      ],
      "execution_count": 23,
      "outputs": []
    },
    {
      "cell_type": "code",
      "metadata": {
        "id": "7IKiy3kjq-wA"
      },
      "source": [
        "x_train, y_test, y_train, y_test = train_test_split(df[['Age', 'Time', 'Area', 'number_of_wartz', 'Type']], df['Class'], test_size=0.10, shuffle=False)"
      ],
      "execution_count": null,
      "outputs": []
    },
    {
      "cell_type": "code",
      "metadata": {
        "id": "S8vqkVtSL6qQ"
      },
      "source": [
        "from sklearn.tree import DecisionTreeClassifier\n",
        "clf = DecisionTreeClassifier(random_state=0)"
      ],
      "execution_count": 24,
      "outputs": []
    },
    {
      "cell_type": "code",
      "metadata": {
        "id": "NTmRX60sMQD6"
      },
      "source": [
        "clf.fit(x_train, y_train)"
      ],
      "execution_count": null,
      "outputs": []
    }
  ]
}